{
 "cells": [
  {
   "cell_type": "code",
   "execution_count": 4,
   "metadata": {},
   "outputs": [
    {
     "name": "stdout",
     "output_type": "stream",
     "text": [
      "[100   0   1   2   3]\n"
     ]
    }
   ],
   "source": [
    "import numpy as np\n",
    "\n",
    "a = [0, 1, 2, 3]\n",
    "\n",
    "b = np.insert(a, 0, 100)\n",
    "\n",
    "print(b)"
   ]
  },
  {
   "cell_type": "code",
   "execution_count": 5,
   "metadata": {},
   "outputs": [
    {
     "name": "stdout",
     "output_type": "stream",
     "text": [
      "[<function f at 0x000001B78D1268C0> <function g at 0x000001B78D2B45E0>]\n"
     ]
    }
   ],
   "source": [
    "def f(x):\n",
    "    return x ** 2\n",
    "\n",
    "def g(x):\n",
    "    return x ** 3\n",
    "\n",
    "func = np.array([f, g])\n",
    "\n",
    "print(func)"
   ]
  },
  {
   "cell_type": "code",
   "execution_count": 6,
   "metadata": {},
   "outputs": [
    {
     "name": "stdout",
     "output_type": "stream",
     "text": [
      "9\n"
     ]
    }
   ],
   "source": [
    "print(func[0](3))"
   ]
  },
  {
   "cell_type": "code",
   "execution_count": 37,
   "metadata": {},
   "outputs": [
    {
     "data": {
      "text/plain": [
       "9"
      ]
     },
     "execution_count": 37,
     "metadata": {},
     "output_type": "execute_result"
    }
   ],
   "source": [
    "a = [[] for i in range(4)]\n",
    "a[0].append(f)\n",
    "a[0][0](3)"
   ]
  },
  {
   "cell_type": "code",
   "execution_count": 38,
   "metadata": {},
   "outputs": [],
   "source": [
    "obstacle_list = [(10, -1, 2), (20, 1, 2)]"
   ]
  },
  {
   "cell_type": "code",
   "execution_count": 39,
   "metadata": {},
   "outputs": [
    {
     "data": {
      "text/plain": [
       "20"
      ]
     },
     "execution_count": 39,
     "metadata": {},
     "output_type": "execute_result"
    }
   ],
   "source": [
    "obstacle_list[1][0]"
   ]
  },
  {
   "cell_type": "code",
   "execution_count": 46,
   "metadata": {},
   "outputs": [],
   "source": [
    "def a(x):\n",
    "    return x ** 2"
   ]
  },
  {
   "cell_type": "code",
   "execution_count": 47,
   "metadata": {},
   "outputs": [],
   "source": [
    "a = a(3)"
   ]
  },
  {
   "cell_type": "code",
   "execution_count": 48,
   "metadata": {},
   "outputs": [
    {
     "name": "stdout",
     "output_type": "stream",
     "text": [
      "9\n"
     ]
    }
   ],
   "source": [
    "print(a)"
   ]
  },
  {
   "cell_type": "code",
   "execution_count": 86,
   "metadata": {},
   "outputs": [],
   "source": [
    "import scipy.optimize as optimize\n",
    "import numpy as np"
   ]
  },
  {
   "cell_type": "code",
   "execution_count": 118,
   "metadata": {},
   "outputs": [],
   "source": [
    "def func(x):\n",
    "    sum = 0\n",
    "    for i in range(2):\n",
    "        sum += x[i]**2\n",
    "    return sum\n",
    "\n",
    "def func1(x):\n",
    "    return np.cos(x[0])\n",
    "\n",
    "x0 = [1, 0]\n",
    "\n",
    "def f(x):\n",
    "    return -np.cos(x[0]) ** 2 - np.sin(x[1]) ** 2 + 1\n",
    "\n",
    "\n",
    "constraints = [{'type': 'ineq', 'fun': f}]\n",
    "\n",
    "bounds = [(None, None), (None, None)]\n",
    "\n",
    "result = optimize.minimize(func1, x0, method='SLSQP', constraints=constraints)\n",
    "\n"
   ]
  },
  {
   "cell_type": "code",
   "execution_count": 119,
   "metadata": {},
   "outputs": [
    {
     "data": {
      "text/plain": [
       "     fun: -0.9999996232241314\n",
       "     jac: array([0.00086808, 0.        ])\n",
       " message: 'Optimization terminated successfully'\n",
       "    nfev: 36\n",
       "     nit: 12\n",
       "    njev: 12\n",
       "  status: 0\n",
       " success: True\n",
       "       x: array([ 3.14246073e+00, -3.12275491e-09])"
      ]
     },
     "execution_count": 119,
     "metadata": {},
     "output_type": "execute_result"
    }
   ],
   "source": [
    "result"
   ]
  },
  {
   "cell_type": "code",
   "execution_count": 70,
   "metadata": {},
   "outputs": [],
   "source": [
    "functions = {}\n",
    "\n",
    "for i in range(5):\n",
    "    def f(x):\n",
    "        return x ** i\n",
    "    functions['f'+str(i)] = f\n",
    "    \n"
   ]
  },
  {
   "cell_type": "code",
   "execution_count": 72,
   "metadata": {},
   "outputs": [
    {
     "name": "stdout",
     "output_type": "stream",
     "text": [
      "16\n",
      "16\n",
      "16\n",
      "16\n",
      "16\n"
     ]
    }
   ],
   "source": [
    "print(functions['f0'](2)) # 1\n",
    "print(functions['f1'](2)) # 2\n",
    "print(functions['f2'](2)) # 4\n",
    "print(functions['f3'](2)) # 8\n",
    "print(functions['f4'](2)) # 16"
   ]
  },
  {
   "cell_type": "code",
   "execution_count": 81,
   "metadata": {},
   "outputs": [],
   "source": [
    "# 関数名を自動生成するためのヘルパー関数\n",
    "def generate_function_name(i):\n",
    "    return f\"function_{i}\"\n",
    "global a\n",
    "a = [500, 300, 100]\n",
    "# 100個以上の関数を自動生成する\n",
    "for i in range(100):\n",
    "    function_name = generate_function_name(i)\n",
    "    function_definition = f\"def {function_name}(x): return x + a[1] + {i}\"\n",
    "    exec(function_definition)"
   ]
  },
  {
   "cell_type": "code",
   "execution_count": 83,
   "metadata": {},
   "outputs": [
    {
     "name": "stdout",
     "output_type": "stream",
     "text": [
      "1\n",
      "2\n",
      "100\n"
     ]
    }
   ],
   "source": [
    "functions = []\n",
    "\n",
    "# 関数名を自動生成するためのヘルパー関数\n",
    "def generate_function_name(i):\n",
    "    return f\"function_{i}\"\n",
    "\n",
    "# 100個以上の関数を自動生成する\n",
    "for i in range(100):\n",
    "    function_name = generate_function_name(i)\n",
    "    function_definition = f\"def {function_name}(x): return x + {i}\"\n",
    "    exec(function_definition)\n",
    "    functions.append(eval(function_name))\n",
    "\n",
    "# 定義した関数を使用する\n",
    "print(functions[0](1))   # 1\n",
    "print(functions[1](1))   # 2\n",
    "print(functions[99](1))  # 100"
   ]
  },
  {
   "cell_type": "code",
   "execution_count": 84,
   "metadata": {},
   "outputs": [
    {
     "data": {
      "text/plain": [
       "[<function __main__.function_0(x)>,\n",
       " <function __main__.function_1(x)>,\n",
       " <function __main__.function_2(x)>,\n",
       " <function __main__.function_3(x)>,\n",
       " <function __main__.function_4(x)>,\n",
       " <function __main__.function_5(x)>,\n",
       " <function __main__.function_6(x)>,\n",
       " <function __main__.function_7(x)>,\n",
       " <function __main__.function_8(x)>,\n",
       " <function __main__.function_9(x)>,\n",
       " <function __main__.function_10(x)>,\n",
       " <function __main__.function_11(x)>,\n",
       " <function __main__.function_12(x)>,\n",
       " <function __main__.function_13(x)>,\n",
       " <function __main__.function_14(x)>,\n",
       " <function __main__.function_15(x)>,\n",
       " <function __main__.function_16(x)>,\n",
       " <function __main__.function_17(x)>,\n",
       " <function __main__.function_18(x)>,\n",
       " <function __main__.function_19(x)>,\n",
       " <function __main__.function_20(x)>,\n",
       " <function __main__.function_21(x)>,\n",
       " <function __main__.function_22(x)>,\n",
       " <function __main__.function_23(x)>,\n",
       " <function __main__.function_24(x)>,\n",
       " <function __main__.function_25(x)>,\n",
       " <function __main__.function_26(x)>,\n",
       " <function __main__.function_27(x)>,\n",
       " <function __main__.function_28(x)>,\n",
       " <function __main__.function_29(x)>,\n",
       " <function __main__.function_30(x)>,\n",
       " <function __main__.function_31(x)>,\n",
       " <function __main__.function_32(x)>,\n",
       " <function __main__.function_33(x)>,\n",
       " <function __main__.function_34(x)>,\n",
       " <function __main__.function_35(x)>,\n",
       " <function __main__.function_36(x)>,\n",
       " <function __main__.function_37(x)>,\n",
       " <function __main__.function_38(x)>,\n",
       " <function __main__.function_39(x)>,\n",
       " <function __main__.function_40(x)>,\n",
       " <function __main__.function_41(x)>,\n",
       " <function __main__.function_42(x)>,\n",
       " <function __main__.function_43(x)>,\n",
       " <function __main__.function_44(x)>,\n",
       " <function __main__.function_45(x)>,\n",
       " <function __main__.function_46(x)>,\n",
       " <function __main__.function_47(x)>,\n",
       " <function __main__.function_48(x)>,\n",
       " <function __main__.function_49(x)>,\n",
       " <function __main__.function_50(x)>,\n",
       " <function __main__.function_51(x)>,\n",
       " <function __main__.function_52(x)>,\n",
       " <function __main__.function_53(x)>,\n",
       " <function __main__.function_54(x)>,\n",
       " <function __main__.function_55(x)>,\n",
       " <function __main__.function_56(x)>,\n",
       " <function __main__.function_57(x)>,\n",
       " <function __main__.function_58(x)>,\n",
       " <function __main__.function_59(x)>,\n",
       " <function __main__.function_60(x)>,\n",
       " <function __main__.function_61(x)>,\n",
       " <function __main__.function_62(x)>,\n",
       " <function __main__.function_63(x)>,\n",
       " <function __main__.function_64(x)>,\n",
       " <function __main__.function_65(x)>,\n",
       " <function __main__.function_66(x)>,\n",
       " <function __main__.function_67(x)>,\n",
       " <function __main__.function_68(x)>,\n",
       " <function __main__.function_69(x)>,\n",
       " <function __main__.function_70(x)>,\n",
       " <function __main__.function_71(x)>,\n",
       " <function __main__.function_72(x)>,\n",
       " <function __main__.function_73(x)>,\n",
       " <function __main__.function_74(x)>,\n",
       " <function __main__.function_75(x)>,\n",
       " <function __main__.function_76(x)>,\n",
       " <function __main__.function_77(x)>,\n",
       " <function __main__.function_78(x)>,\n",
       " <function __main__.function_79(x)>,\n",
       " <function __main__.function_80(x)>,\n",
       " <function __main__.function_81(x)>,\n",
       " <function __main__.function_82(x)>,\n",
       " <function __main__.function_83(x)>,\n",
       " <function __main__.function_84(x)>,\n",
       " <function __main__.function_85(x)>,\n",
       " <function __main__.function_86(x)>,\n",
       " <function __main__.function_87(x)>,\n",
       " <function __main__.function_88(x)>,\n",
       " <function __main__.function_89(x)>,\n",
       " <function __main__.function_90(x)>,\n",
       " <function __main__.function_91(x)>,\n",
       " <function __main__.function_92(x)>,\n",
       " <function __main__.function_93(x)>,\n",
       " <function __main__.function_94(x)>,\n",
       " <function __main__.function_95(x)>,\n",
       " <function __main__.function_96(x)>,\n",
       " <function __main__.function_97(x)>,\n",
       " <function __main__.function_98(x)>,\n",
       " <function __main__.function_99(x)>]"
      ]
     },
     "execution_count": 84,
     "metadata": {},
     "output_type": "execute_result"
    }
   ],
   "source": [
    "functions"
   ]
  },
  {
   "cell_type": "code",
   "execution_count": 6,
   "metadata": {},
   "outputs": [
    {
     "data": {
      "text/plain": [
       "array([1, 4, 9])"
      ]
     },
     "execution_count": 6,
     "metadata": {},
     "output_type": "execute_result"
    }
   ],
   "source": [
    "import numpy as np\n",
    "\n",
    "def test(x):\n",
    "    ans = np.array([0, 0, 0])\n",
    "    for i in range(len(x)):\n",
    "        ans[i] = x[i] ** 2\n",
    "    return ans\n",
    "\n",
    "test(np.array([1, 2, 3]))"
   ]
  },
  {
   "cell_type": "code",
   "execution_count": 12,
   "metadata": {},
   "outputs": [
    {
     "data": {
      "text/plain": [
       "2"
      ]
     },
     "execution_count": 12,
     "metadata": {},
     "output_type": "execute_result"
    }
   ],
   "source": [
    "ans = [1, 2, [3, 4, 5]]\n",
    "ans[1]\n"
   ]
  },
  {
   "cell_type": "code",
   "execution_count": 11,
   "metadata": {},
   "outputs": [
    {
     "data": {
      "text/plain": [
       "array([0, 0, 0])"
      ]
     },
     "execution_count": 11,
     "metadata": {},
     "output_type": "execute_result"
    }
   ],
   "source": [
    "ans = np.array([[0, 0, 0], [1, 1, 1], [2, 2, 2]])\n",
    "ans[0, :]"
   ]
  },
  {
   "cell_type": "code",
   "execution_count": 28,
   "metadata": {},
   "outputs": [
    {
     "name": "stdout",
     "output_type": "stream",
     "text": [
      "Optimal solution:\n",
      "[-1.2 -0.6]\n",
      "Optimal value:\n",
      "1.8000000000000003\n"
     ]
    }
   ],
   "source": [
    "import numpy as np\n",
    "from scipy.optimize import minimize\n",
    "\n",
    "# 目的関数（最小化対象の関数）\n",
    "def objective_function(x):\n",
    "    return x[0]**2 + x[1]**2\n",
    "\n",
    "# 制約関数\n",
    "def constraint_function(x, *args):\n",
    "    return args[0] * x[0] + args[1][0] * x[1] + args[1][1]\n",
    "\n",
    "# 初期値\n",
    "x0 = np.array([0.5, 0.5])\n",
    "\n",
    "# 制約関数に渡す引数\n",
    "constraint_args = {'a': 2, 'b': -1}\n",
    "\n",
    "# 制約定義\n",
    "constraints = [{'type': 'eq', 'fun': constraint_function, 'args': [2, [1, 3]]}]\n",
    "\n",
    "# 最適化を実行\n",
    "result = minimize(objective_function, x0, constraints=constraints)\n",
    "\n",
    "print(\"Optimal solution:\")\n",
    "print(result.x)  # 最適解の表示\n",
    "print(\"Optimal value:\")\n",
    "print(result.fun)  # 最適値の表示"
   ]
  },
  {
   "cell_type": "code",
   "execution_count": 25,
   "metadata": {},
   "outputs": [
    {
     "data": {
      "text/plain": [
       "array([[100,   0,   0],\n",
       "       [  1,   1,   1],\n",
       "       [  2,   2,   2]])"
      ]
     },
     "execution_count": 25,
     "metadata": {},
     "output_type": "execute_result"
    }
   ],
   "source": [
    "ans = np.array([[0, 0, 0], [1, 1, 1], [2, 2, 2]])\n",
    "ans[0, 0] = 100\n",
    "ans"
   ]
  },
  {
   "cell_type": "code",
   "execution_count": 14,
   "metadata": {},
   "outputs": [
    {
     "data": {
      "image/png": "[encoded data removed]",
      "text/plain": [
       "<Figure size 640x480 with 1 Axes>"
      ]
     },
     "metadata": {},
     "output_type": "display_data"
    }
   ],
   "source": [
    "import numpy as np\n",
    "import matplotlib.pyplot as plt\n",
    "A, B = 1, 0\n",
    "x = np.linspace(-1, 1, 1000)\n",
    "y = A*np.exp(x) + B*np.exp(-x)\n",
    "y1 = A*np.exp(x)\n",
    "y2 = B*np.exp(-x)\n",
    "plt.plot(x, y)\n",
    "plt.plot(x, y1)\n",
    "plt.plot(x, y2)\n",
    "plt.show()"
   ]
  },
  {
   "cell_type": "code",
   "execution_count": 19,
   "metadata": {},
   "outputs": [
    {
     "data": {
      "image/png": "[encoded data removed]",
      "text/plain": [
       "<Figure size 640x480 with 1 Axes>"
      ]
     },
     "metadata": {},
     "output_type": "display_data"
    }
   ],
   "source": [
    "import numpy as np\n",
    "import matplotlib.pyplot as plt\n",
    "a = 10\n",
    "x = np.linspace(-10, 10, 1000)\n",
    "y = 1 / (1 + np.exp(-a*x))\n",
    "plt.plot(x, y)\n",
    "plt.show()"
   ]
  },
  {
   "cell_type": "code",
   "execution_count": 1,
   "metadata": {},
   "outputs": [
    {
     "data": {
      "text/plain": [
       "1.5"
      ]
     },
     "execution_count": 1,
     "metadata": {},
     "output_type": "execute_result"
    }
   ],
   "source": [
    "1/2*3"
   ]
  },
  {
   "cell_type": "code",
   "execution_count": 3,
   "metadata": {},
   "outputs": [
    {
     "data": {
      "text/plain": [
       "0.515387413714061"
      ]
     },
     "execution_count": 3,
     "metadata": {},
     "output_type": "execute_result"
    }
   ],
   "source": [
    "import numpy as np\n",
    "np.sqrt(0.5**2 + 2 * (1/2)**2 * (1 - np.cos(0.025)) / 0.1**2)"
   ]
  },
  {
   "cell_type": "code",
   "execution_count": 5,
   "metadata": {},
   "outputs": [
    {
     "data": {
      "text/plain": [
       "0.7161972439135291"
      ]
     },
     "execution_count": 5,
     "metadata": {},
     "output_type": "execute_result"
    }
   ],
   "source": [
    "np.rad2deg(0.0125)"
   ]
  },
  {
   "cell_type": "code",
   "execution_count": 7,
   "metadata": {},
   "outputs": [
    {
     "data": {
      "text/plain": [
       "1.5707963267948966"
      ]
     },
     "execution_count": 7,
     "metadata": {},
     "output_type": "execute_result"
    }
   ],
   "source": [
    "np.arctan2(1, 0)"
   ]
  },
  {
   "cell_type": "code",
   "execution_count": 6,
   "metadata": {},
   "outputs": [
    {
     "name": "stdout",
     "output_type": "stream",
     "text": [
      "最適解: [0.5003846 0.4996154]\n",
      "最小値: 0.5000002958289412\n",
      "制約条件の値: 2.220446049250313e-16\n",
      "     fun: 0.5000002958289412\n",
      "     jac: array([1.00076921, 0.99923082])\n",
      " message: 'Optimization terminated successfully'\n",
      "    nfev: 15\n",
      "     nit: 5\n",
      "    njev: 5\n",
      "  status: 0\n",
      " success: True\n",
      "       x: array([0.5003846, 0.4996154])\n"
     ]
    }
   ],
   "source": [
    "from scipy.optimize import minimize\n",
    "\n",
    "# 目的関数\n",
    "def objective_function(x):\n",
    "    return x[0]**2 + x[1]**2\n",
    "\n",
    "# 制約条件\n",
    "def constraint_function(x):\n",
    "    return x[0] + x[1] - 1\n",
    "\n",
    "# 初期値\n",
    "initial_guess = [100, 1032123]\n",
    "\n",
    "# 最適化の設定\n",
    "optimization_result = minimize(\n",
    "    fun=objective_function,\n",
    "    x0=initial_guess,\n",
    "    constraints={'type': 'eq', 'fun': constraint_function},\n",
    "    method='SLSQP'\n",
    ")\n",
    "\n",
    "# 結果の表示\n",
    "print(\"最適解:\", optimization_result.x)\n",
    "print(\"最小値:\", optimization_result.fun)\n",
    "print(\"制約条件の値:\", constraint_function(optimization_result.x))\n",
    "print(optimization_result)"
   ]
  },
  {
   "cell_type": "code",
   "execution_count": 8,
   "metadata": {},
   "outputs": [
    {
     "name": "stdout",
     "output_type": "stream",
     "text": [
      "最適解: [0.5 0.5]\n",
      "最小値: 0.49999999999999967\n",
      "制約条件の値: -3.3306690738754696e-16\n"
     ]
    }
   ],
   "source": [
    "from scipy.optimize import minimize\n",
    "\n",
    "# 目的関数\n",
    "def objective_function(x):\n",
    "    return x[0]**2 + x[1]**2\n",
    "\n",
    "# 制約条件\n",
    "def constraint_function(x):\n",
    "    return x[0] + x[1] - 1\n",
    "\n",
    "# 初期値\n",
    "initial_guess = [0, 0]\n",
    "\n",
    "# 最適化の設定\n",
    "optimization_result = minimize(\n",
    "    fun=objective_function,\n",
    "    x0=initial_guess,\n",
    "    constraints={'type': 'eq', 'fun': constraint_function},\n",
    "    method='trust-constr'\n",
    ")\n",
    "\n",
    "# 結果の表示\n",
    "print(\"最適解:\", optimization_result.x)\n",
    "print(\"最小値:\", optimization_result.fun)\n",
    "print(\"制約条件の値:\", constraint_function(optimization_result.x))"
   ]
  },
  {
   "cell_type": "code",
   "execution_count": 1,
   "metadata": {},
   "outputs": [
    {
     "ename": "ValueError",
     "evalue": "fp and xp are not of the same length.",
     "output_type": "error",
     "traceback": [
      "\u001b[1;31m---------------------------------------------------------------------------\u001b[0m",
      "\u001b[1;31mValueError\u001b[0m                                Traceback (most recent call last)",
      "\u001b[1;32mc:\\Users\\ryota\\OneDrive\\ドキュメント\\research\\program\\TrajectoryOptimization2\\test.ipynb Cell 31\u001b[0m line \u001b[0;36m4\n\u001b[0;32m     <a href='vscode-notebook-cell:/c%3A/Users/ryota/OneDrive/%E3%83%89%E3%82%AD%E3%83%A5%E3%83%A1%E3%83%B3%E3%83%88/research/program/TrajectoryOptimization2/test.ipynb#X42sZmlsZQ%3D%3D?line=36'>37</a>\u001b[0m constraints \u001b[39m=\u001b[39m {\u001b[39m'\u001b[39m\u001b[39mtype\u001b[39m\u001b[39m'\u001b[39m: \u001b[39m'\u001b[39m\u001b[39meq\u001b[39m\u001b[39m'\u001b[39m, \u001b[39m'\u001b[39m\u001b[39mfun\u001b[39m\u001b[39m'\u001b[39m: \u001b[39mlambda\u001b[39;00m u: np\u001b[39m.\u001b[39msum(u\u001b[39m*\u001b[39m\u001b[39m*\u001b[39m\u001b[39m2\u001b[39m) \u001b[39m-\u001b[39m \u001b[39m1\u001b[39m}\n\u001b[0;32m     <a href='vscode-notebook-cell:/c%3A/Users/ryota/OneDrive/%E3%83%89%E3%82%AD%E3%83%A5%E3%83%A1%E3%83%B3%E3%83%88/research/program/TrajectoryOptimization2/test.ipynb#X42sZmlsZQ%3D%3D?line=38'>39</a>\u001b[0m \u001b[39m# 最適化の設定\u001b[39;00m\n\u001b[1;32m---> <a href='vscode-notebook-cell:/c%3A/Users/ryota/OneDrive/%E3%83%89%E3%82%AD%E3%83%A5%E3%83%A1%E3%83%B3%E3%83%88/research/program/TrajectoryOptimization2/test.ipynb#X42sZmlsZQ%3D%3D?line=39'>40</a>\u001b[0m result \u001b[39m=\u001b[39m minimize(\n\u001b[0;32m     <a href='vscode-notebook-cell:/c%3A/Users/ryota/OneDrive/%E3%83%89%E3%82%AD%E3%83%A5%E3%83%A1%E3%83%B3%E3%83%88/research/program/TrajectoryOptimization2/test.ipynb#X42sZmlsZQ%3D%3D?line=40'>41</a>\u001b[0m     fun\u001b[39m=\u001b[39;49m\u001b[39mlambda\u001b[39;49;00m u: objective_function(u, [\u001b[39m0.0\u001b[39;49m, \u001b[39m0.0\u001b[39;49m], \u001b[39m10.0\u001b[39;49m),\n\u001b[0;32m     <a href='vscode-notebook-cell:/c%3A/Users/ryota/OneDrive/%E3%83%89%E3%82%AD%E3%83%A5%E3%83%A1%E3%83%B3%E3%83%88/research/program/TrajectoryOptimization2/test.ipynb#X42sZmlsZQ%3D%3D?line=41'>42</a>\u001b[0m     x0\u001b[39m=\u001b[39;49mu_init,\n\u001b[0;32m     <a href='vscode-notebook-cell:/c%3A/Users/ryota/OneDrive/%E3%83%89%E3%82%AD%E3%83%A5%E3%83%A1%E3%83%B3%E3%83%88/research/program/TrajectoryOptimization2/test.ipynb#X42sZmlsZQ%3D%3D?line=42'>43</a>\u001b[0m     constraints\u001b[39m=\u001b[39;49mconstraints,\n\u001b[0;32m     <a href='vscode-notebook-cell:/c%3A/Users/ryota/OneDrive/%E3%83%89%E3%82%AD%E3%83%A5%E3%83%A1%E3%83%B3%E3%83%88/research/program/TrajectoryOptimization2/test.ipynb#X42sZmlsZQ%3D%3D?line=43'>44</a>\u001b[0m     method\u001b[39m=\u001b[39;49m\u001b[39m'\u001b[39;49m\u001b[39mSLSQP\u001b[39;49m\u001b[39m'\u001b[39;49m  \u001b[39m# 別のアルゴリズムも試すことができます\u001b[39;49;00m\n\u001b[0;32m     <a href='vscode-notebook-cell:/c%3A/Users/ryota/OneDrive/%E3%83%89%E3%82%AD%E3%83%A5%E3%83%A1%E3%83%B3%E3%83%88/research/program/TrajectoryOptimization2/test.ipynb#X42sZmlsZQ%3D%3D?line=44'>45</a>\u001b[0m )\n\u001b[0;32m     <a href='vscode-notebook-cell:/c%3A/Users/ryota/OneDrive/%E3%83%89%E3%82%AD%E3%83%A5%E3%83%A1%E3%83%B3%E3%83%88/research/program/TrajectoryOptimization2/test.ipynb#X42sZmlsZQ%3D%3D?line=46'>47</a>\u001b[0m \u001b[39m# 結果の表示\u001b[39;00m\n\u001b[0;32m     <a href='vscode-notebook-cell:/c%3A/Users/ryota/OneDrive/%E3%83%89%E3%82%AD%E3%83%A5%E3%83%A1%E3%83%B3%E3%83%88/research/program/TrajectoryOptimization2/test.ipynb#X42sZmlsZQ%3D%3D?line=47'>48</a>\u001b[0m \u001b[39mprint\u001b[39m(\u001b[39m\"\u001b[39m\u001b[39m最適な制御入力:\u001b[39m\u001b[39m\"\u001b[39m, result\u001b[39m.\u001b[39mx)\n",
      "File \u001b[1;32mc:\\Users\\ryota\\AppData\\Local\\Programs\\Python\\Python310\\lib\\site-packages\\scipy\\optimize\\_minimize.py:708\u001b[0m, in \u001b[0;36mminimize\u001b[1;34m(fun, x0, args, method, jac, hess, hessp, bounds, constraints, tol, callback, options)\u001b[0m\n\u001b[0;32m    705\u001b[0m     res \u001b[39m=\u001b[39m _minimize_cobyla(fun, x0, args, constraints, callback\u001b[39m=\u001b[39mcallback,\n\u001b[0;32m    706\u001b[0m                             \u001b[39m*\u001b[39m\u001b[39m*\u001b[39moptions)\n\u001b[0;32m    707\u001b[0m \u001b[39melif\u001b[39;00m meth \u001b[39m==\u001b[39m \u001b[39m'\u001b[39m\u001b[39mslsqp\u001b[39m\u001b[39m'\u001b[39m:\n\u001b[1;32m--> 708\u001b[0m     res \u001b[39m=\u001b[39m _minimize_slsqp(fun, x0, args, jac, bounds,\n\u001b[0;32m    709\u001b[0m                           constraints, callback\u001b[39m=\u001b[39mcallback, \u001b[39m*\u001b[39m\u001b[39m*\u001b[39moptions)\n\u001b[0;32m    710\u001b[0m \u001b[39melif\u001b[39;00m meth \u001b[39m==\u001b[39m \u001b[39m'\u001b[39m\u001b[39mtrust-constr\u001b[39m\u001b[39m'\u001b[39m:\n\u001b[0;32m    711\u001b[0m     res \u001b[39m=\u001b[39m _minimize_trustregion_constr(fun, x0, args, jac, hess, hessp,\n\u001b[0;32m    712\u001b[0m                                        bounds, constraints,\n\u001b[0;32m    713\u001b[0m                                        callback\u001b[39m=\u001b[39mcallback, \u001b[39m*\u001b[39m\u001b[39m*\u001b[39moptions)\n",
      "File \u001b[1;32mc:\\Users\\ryota\\AppData\\Local\\Programs\\Python\\Python310\\lib\\site-packages\\scipy\\optimize\\_slsqp_py.py:374\u001b[0m, in \u001b[0;36m_minimize_slsqp\u001b[1;34m(func, x0, args, jac, bounds, constraints, maxiter, ftol, iprint, disp, eps, callback, finite_diff_rel_step, **unknown_options)\u001b[0m\n\u001b[0;32m    371\u001b[0m     xu[infbnd[:, \u001b[39m1\u001b[39m]] \u001b[39m=\u001b[39m np\u001b[39m.\u001b[39mnan\n\u001b[0;32m    373\u001b[0m \u001b[39m# ScalarFunction provides function and gradient evaluation\u001b[39;00m\n\u001b[1;32m--> 374\u001b[0m sf \u001b[39m=\u001b[39m _prepare_scalar_function(func, x, jac\u001b[39m=\u001b[39;49mjac, args\u001b[39m=\u001b[39;49margs, epsilon\u001b[39m=\u001b[39;49meps,\n\u001b[0;32m    375\u001b[0m                               finite_diff_rel_step\u001b[39m=\u001b[39;49mfinite_diff_rel_step,\n\u001b[0;32m    376\u001b[0m                               bounds\u001b[39m=\u001b[39;49mnew_bounds)\n\u001b[0;32m    377\u001b[0m \u001b[39m# gh11403 SLSQP sometimes exceeds bounds by 1 or 2 ULP, make sure this\u001b[39;00m\n\u001b[0;32m    378\u001b[0m \u001b[39m# doesn't get sent to the func/grad evaluator.\u001b[39;00m\n\u001b[0;32m    379\u001b[0m wrapped_fun \u001b[39m=\u001b[39m _clip_x_for_func(sf\u001b[39m.\u001b[39mfun, new_bounds)\n",
      "File \u001b[1;32mc:\\Users\\ryota\\AppData\\Local\\Programs\\Python\\Python310\\lib\\site-packages\\scipy\\optimize\\_optimize.py:263\u001b[0m, in \u001b[0;36m_prepare_scalar_function\u001b[1;34m(fun, x0, jac, args, bounds, epsilon, finite_diff_rel_step, hess)\u001b[0m\n\u001b[0;32m    259\u001b[0m     bounds \u001b[39m=\u001b[39m (\u001b[39m-\u001b[39mnp\u001b[39m.\u001b[39minf, np\u001b[39m.\u001b[39minf)\n\u001b[0;32m    261\u001b[0m \u001b[39m# ScalarFunction caches. Reuse of fun(x) during grad\u001b[39;00m\n\u001b[0;32m    262\u001b[0m \u001b[39m# calculation reduces overall function evaluations.\u001b[39;00m\n\u001b[1;32m--> 263\u001b[0m sf \u001b[39m=\u001b[39m ScalarFunction(fun, x0, args, grad, hess,\n\u001b[0;32m    264\u001b[0m                     finite_diff_rel_step, bounds, epsilon\u001b[39m=\u001b[39;49mepsilon)\n\u001b[0;32m    266\u001b[0m \u001b[39mreturn\u001b[39;00m sf\n",
      "File \u001b[1;32mc:\\Users\\ryota\\AppData\\Local\\Programs\\Python\\Python310\\lib\\site-packages\\scipy\\optimize\\_differentiable_functions.py:158\u001b[0m, in \u001b[0;36mScalarFunction.__init__\u001b[1;34m(self, fun, x0, args, grad, hess, finite_diff_rel_step, finite_diff_bounds, epsilon)\u001b[0m\n\u001b[0;32m    155\u001b[0m     \u001b[39mself\u001b[39m\u001b[39m.\u001b[39mf \u001b[39m=\u001b[39m fun_wrapped(\u001b[39mself\u001b[39m\u001b[39m.\u001b[39mx)\n\u001b[0;32m    157\u001b[0m \u001b[39mself\u001b[39m\u001b[39m.\u001b[39m_update_fun_impl \u001b[39m=\u001b[39m update_fun\n\u001b[1;32m--> 158\u001b[0m \u001b[39mself\u001b[39;49m\u001b[39m.\u001b[39;49m_update_fun()\n\u001b[0;32m    160\u001b[0m \u001b[39m# Gradient evaluation\u001b[39;00m\n\u001b[0;32m    161\u001b[0m \u001b[39mif\u001b[39;00m callable(grad):\n",
      "File \u001b[1;32mc:\\Users\\ryota\\AppData\\Local\\Programs\\Python\\Python310\\lib\\site-packages\\scipy\\optimize\\_differentiable_functions.py:251\u001b[0m, in \u001b[0;36mScalarFunction._update_fun\u001b[1;34m(self)\u001b[0m\n\u001b[0;32m    249\u001b[0m \u001b[39mdef\u001b[39;00m \u001b[39m_update_fun\u001b[39m(\u001b[39mself\u001b[39m):\n\u001b[0;32m    250\u001b[0m     \u001b[39mif\u001b[39;00m \u001b[39mnot\u001b[39;00m \u001b[39mself\u001b[39m\u001b[39m.\u001b[39mf_updated:\n\u001b[1;32m--> 251\u001b[0m         \u001b[39mself\u001b[39;49m\u001b[39m.\u001b[39;49m_update_fun_impl()\n\u001b[0;32m    252\u001b[0m         \u001b[39mself\u001b[39m\u001b[39m.\u001b[39mf_updated \u001b[39m=\u001b[39m \u001b[39mTrue\u001b[39;00m\n",
      "File \u001b[1;32mc:\\Users\\ryota\\AppData\\Local\\Programs\\Python\\Python310\\lib\\site-packages\\scipy\\optimize\\_differentiable_functions.py:155\u001b[0m, in \u001b[0;36mScalarFunction.__init__.<locals>.update_fun\u001b[1;34m()\u001b[0m\n\u001b[0;32m    154\u001b[0m \u001b[39mdef\u001b[39;00m \u001b[39mupdate_fun\u001b[39m():\n\u001b[1;32m--> 155\u001b[0m     \u001b[39mself\u001b[39m\u001b[39m.\u001b[39mf \u001b[39m=\u001b[39m fun_wrapped(\u001b[39mself\u001b[39;49m\u001b[39m.\u001b[39;49mx)\n",
      "File \u001b[1;32mc:\\Users\\ryota\\AppData\\Local\\Programs\\Python\\Python310\\lib\\site-packages\\scipy\\optimize\\_differentiable_functions.py:137\u001b[0m, in \u001b[0;36mScalarFunction.__init__.<locals>.fun_wrapped\u001b[1;34m(x)\u001b[0m\n\u001b[0;32m    133\u001b[0m \u001b[39mself\u001b[39m\u001b[39m.\u001b[39mnfev \u001b[39m+\u001b[39m\u001b[39m=\u001b[39m \u001b[39m1\u001b[39m\n\u001b[0;32m    134\u001b[0m \u001b[39m# Send a copy because the user may overwrite it.\u001b[39;00m\n\u001b[0;32m    135\u001b[0m \u001b[39m# Overwriting results in undefined behaviour because\u001b[39;00m\n\u001b[0;32m    136\u001b[0m \u001b[39m# fun(self.x) will change self.x, with the two no longer linked.\u001b[39;00m\n\u001b[1;32m--> 137\u001b[0m fx \u001b[39m=\u001b[39m fun(np\u001b[39m.\u001b[39;49mcopy(x), \u001b[39m*\u001b[39;49margs)\n\u001b[0;32m    138\u001b[0m \u001b[39m# Make sure the function returns a true scalar\u001b[39;00m\n\u001b[0;32m    139\u001b[0m \u001b[39mif\u001b[39;00m \u001b[39mnot\u001b[39;00m np\u001b[39m.\u001b[39misscalar(fx):\n",
      "\u001b[1;32mc:\\Users\\ryota\\OneDrive\\ドキュメント\\research\\program\\TrajectoryOptimization2\\test.ipynb Cell 31\u001b[0m line \u001b[0;36m4\n\u001b[0;32m     <a href='vscode-notebook-cell:/c%3A/Users/ryota/OneDrive/%E3%83%89%E3%82%AD%E3%83%A5%E3%83%A1%E3%83%B3%E3%83%88/research/program/TrajectoryOptimization2/test.ipynb#X42sZmlsZQ%3D%3D?line=36'>37</a>\u001b[0m constraints \u001b[39m=\u001b[39m {\u001b[39m'\u001b[39m\u001b[39mtype\u001b[39m\u001b[39m'\u001b[39m: \u001b[39m'\u001b[39m\u001b[39meq\u001b[39m\u001b[39m'\u001b[39m, \u001b[39m'\u001b[39m\u001b[39mfun\u001b[39m\u001b[39m'\u001b[39m: \u001b[39mlambda\u001b[39;00m u: np\u001b[39m.\u001b[39msum(u\u001b[39m*\u001b[39m\u001b[39m*\u001b[39m\u001b[39m2\u001b[39m) \u001b[39m-\u001b[39m \u001b[39m1\u001b[39m}\n\u001b[0;32m     <a href='vscode-notebook-cell:/c%3A/Users/ryota/OneDrive/%E3%83%89%E3%82%AD%E3%83%A5%E3%83%A1%E3%83%B3%E3%83%88/research/program/TrajectoryOptimization2/test.ipynb#X42sZmlsZQ%3D%3D?line=38'>39</a>\u001b[0m \u001b[39m# 最適化の設定\u001b[39;00m\n\u001b[0;32m     <a href='vscode-notebook-cell:/c%3A/Users/ryota/OneDrive/%E3%83%89%E3%82%AD%E3%83%A5%E3%83%A1%E3%83%B3%E3%83%88/research/program/TrajectoryOptimization2/test.ipynb#X42sZmlsZQ%3D%3D?line=39'>40</a>\u001b[0m result \u001b[39m=\u001b[39m minimize(\n\u001b[1;32m---> <a href='vscode-notebook-cell:/c%3A/Users/ryota/OneDrive/%E3%83%89%E3%82%AD%E3%83%A5%E3%83%A1%E3%83%B3%E3%83%88/research/program/TrajectoryOptimization2/test.ipynb#X42sZmlsZQ%3D%3D?line=40'>41</a>\u001b[0m     fun\u001b[39m=\u001b[39m\u001b[39mlambda\u001b[39;00m u: objective_function(u, [\u001b[39m0.0\u001b[39;49m, \u001b[39m0.0\u001b[39;49m], \u001b[39m10.0\u001b[39;49m),\n\u001b[0;32m     <a href='vscode-notebook-cell:/c%3A/Users/ryota/OneDrive/%E3%83%89%E3%82%AD%E3%83%A5%E3%83%A1%E3%83%B3%E3%83%88/research/program/TrajectoryOptimization2/test.ipynb#X42sZmlsZQ%3D%3D?line=41'>42</a>\u001b[0m     x0\u001b[39m=\u001b[39mu_init,\n\u001b[0;32m     <a href='vscode-notebook-cell:/c%3A/Users/ryota/OneDrive/%E3%83%89%E3%82%AD%E3%83%A5%E3%83%A1%E3%83%B3%E3%83%88/research/program/TrajectoryOptimization2/test.ipynb#X42sZmlsZQ%3D%3D?line=42'>43</a>\u001b[0m     constraints\u001b[39m=\u001b[39mconstraints,\n\u001b[0;32m     <a href='vscode-notebook-cell:/c%3A/Users/ryota/OneDrive/%E3%83%89%E3%82%AD%E3%83%A5%E3%83%A1%E3%83%B3%E3%83%88/research/program/TrajectoryOptimization2/test.ipynb#X42sZmlsZQ%3D%3D?line=43'>44</a>\u001b[0m     method\u001b[39m=\u001b[39m\u001b[39m'\u001b[39m\u001b[39mSLSQP\u001b[39m\u001b[39m'\u001b[39m  \u001b[39m# 別のアルゴリズムも試すことができます\u001b[39;00m\n\u001b[0;32m     <a href='vscode-notebook-cell:/c%3A/Users/ryota/OneDrive/%E3%83%89%E3%82%AD%E3%83%A5%E3%83%A1%E3%83%B3%E3%83%88/research/program/TrajectoryOptimization2/test.ipynb#X42sZmlsZQ%3D%3D?line=44'>45</a>\u001b[0m )\n\u001b[0;32m     <a href='vscode-notebook-cell:/c%3A/Users/ryota/OneDrive/%E3%83%89%E3%82%AD%E3%83%A5%E3%83%A1%E3%83%B3%E3%83%88/research/program/TrajectoryOptimization2/test.ipynb#X42sZmlsZQ%3D%3D?line=46'>47</a>\u001b[0m \u001b[39m# 結果の表示\u001b[39;00m\n\u001b[0;32m     <a href='vscode-notebook-cell:/c%3A/Users/ryota/OneDrive/%E3%83%89%E3%82%AD%E3%83%A5%E3%83%A1%E3%83%B3%E3%83%88/research/program/TrajectoryOptimization2/test.ipynb#X42sZmlsZQ%3D%3D?line=47'>48</a>\u001b[0m \u001b[39mprint\u001b[39m(\u001b[39m\"\u001b[39m\u001b[39m最適な制御入力:\u001b[39m\u001b[39m\"\u001b[39m, result\u001b[39m.\u001b[39mx)\n",
      "\u001b[1;32mc:\\Users\\ryota\\OneDrive\\ドキュメント\\research\\program\\TrajectoryOptimization2\\test.ipynb Cell 31\u001b[0m line \u001b[0;36m2\n\u001b[0;32m     <a href='vscode-notebook-cell:/c%3A/Users/ryota/OneDrive/%E3%83%89%E3%82%AD%E3%83%A5%E3%83%A1%E3%83%B3%E3%83%88/research/program/TrajectoryOptimization2/test.ipynb#X42sZmlsZQ%3D%3D?line=22'>23</a>\u001b[0m u_func \u001b[39m=\u001b[39m \u001b[39mlambda\u001b[39;00m t: np\u001b[39m.\u001b[39minterp(t, t_steps, u)\n\u001b[0;32m     <a href='vscode-notebook-cell:/c%3A/Users/ryota/OneDrive/%E3%83%89%E3%82%AD%E3%83%A5%E3%83%A1%E3%83%B3%E3%83%88/research/program/TrajectoryOptimization2/test.ipynb#X42sZmlsZQ%3D%3D?line=24'>25</a>\u001b[0m \u001b[39m# システムの動力学を解く\u001b[39;00m\n\u001b[1;32m---> <a href='vscode-notebook-cell:/c%3A/Users/ryota/OneDrive/%E3%83%89%E3%82%AD%E3%83%A5%E3%83%A1%E3%83%B3%E3%83%88/research/program/TrajectoryOptimization2/test.ipynb#X42sZmlsZQ%3D%3D?line=25'>26</a>\u001b[0m sol \u001b[39m=\u001b[39m solve_ivp(\u001b[39mlambda\u001b[39;49;00m t, z: dynamics(t, z, u_func(t)), [\u001b[39m0\u001b[39;49m, tf], z_init, t_eval\u001b[39m=\u001b[39;49mt_steps)\n\u001b[0;32m     <a href='vscode-notebook-cell:/c%3A/Users/ryota/OneDrive/%E3%83%89%E3%82%AD%E3%83%A5%E3%83%A1%E3%83%B3%E3%83%88/research/program/TrajectoryOptimization2/test.ipynb#X42sZmlsZQ%3D%3D?line=27'>28</a>\u001b[0m \u001b[39m# 目的関数（コスト関数）の計算\u001b[39;00m\n\u001b[0;32m     <a href='vscode-notebook-cell:/c%3A/Users/ryota/OneDrive/%E3%83%89%E3%82%AD%E3%83%A5%E3%83%A1%E3%83%B3%E3%83%88/research/program/TrajectoryOptimization2/test.ipynb#X42sZmlsZQ%3D%3D?line=28'>29</a>\u001b[0m cost \u001b[39m=\u001b[39m np\u001b[39m.\u001b[39mtrapz(u\u001b[39m*\u001b[39m\u001b[39m*\u001b[39m\u001b[39m2\u001b[39m \u001b[39m+\u001b[39m sol\u001b[39m.\u001b[39my[\u001b[39m0\u001b[39m]\u001b[39m*\u001b[39m\u001b[39m*\u001b[39m\u001b[39m2\u001b[39m \u001b[39m+\u001b[39m sol\u001b[39m.\u001b[39my[\u001b[39m1\u001b[39m]\u001b[39m*\u001b[39m\u001b[39m*\u001b[39m\u001b[39m2\u001b[39m, t_steps)\n",
      "File \u001b[1;32mc:\\Users\\ryota\\AppData\\Local\\Programs\\Python\\Python310\\lib\\site-packages\\scipy\\integrate\\_ivp\\ivp.py:555\u001b[0m, in \u001b[0;36msolve_ivp\u001b[1;34m(fun, t_span, y0, method, t_eval, dense_output, events, vectorized, args, **options)\u001b[0m\n\u001b[0;32m    552\u001b[0m \u001b[39mif\u001b[39;00m method \u001b[39min\u001b[39;00m METHODS:\n\u001b[0;32m    553\u001b[0m     method \u001b[39m=\u001b[39m METHODS[method]\n\u001b[1;32m--> 555\u001b[0m solver \u001b[39m=\u001b[39m method(fun, t0, y0, tf, vectorized\u001b[39m=\u001b[39mvectorized, \u001b[39m*\u001b[39m\u001b[39m*\u001b[39moptions)\n\u001b[0;32m    557\u001b[0m \u001b[39mif\u001b[39;00m t_eval \u001b[39mis\u001b[39;00m \u001b[39mNone\u001b[39;00m:\n\u001b[0;32m    558\u001b[0m     ts \u001b[39m=\u001b[39m [t0]\n",
      "File \u001b[1;32mc:\\Users\\ryota\\AppData\\Local\\Programs\\Python\\Python310\\lib\\site-packages\\scipy\\integrate\\_ivp\\rk.py:94\u001b[0m, in \u001b[0;36mRungeKutta.__init__\u001b[1;34m(self, fun, t0, y0, t_bound, max_step, rtol, atol, vectorized, first_step, **extraneous)\u001b[0m\n\u001b[0;32m     92\u001b[0m \u001b[39mself\u001b[39m\u001b[39m.\u001b[39mmax_step \u001b[39m=\u001b[39m validate_max_step(max_step)\n\u001b[0;32m     93\u001b[0m \u001b[39mself\u001b[39m\u001b[39m.\u001b[39mrtol, \u001b[39mself\u001b[39m\u001b[39m.\u001b[39matol \u001b[39m=\u001b[39m validate_tol(rtol, atol, \u001b[39mself\u001b[39m\u001b[39m.\u001b[39mn)\n\u001b[1;32m---> 94\u001b[0m \u001b[39mself\u001b[39m\u001b[39m.\u001b[39mf \u001b[39m=\u001b[39m \u001b[39mself\u001b[39;49m\u001b[39m.\u001b[39;49mfun(\u001b[39mself\u001b[39;49m\u001b[39m.\u001b[39;49mt, \u001b[39mself\u001b[39;49m\u001b[39m.\u001b[39;49my)\n\u001b[0;32m     95\u001b[0m \u001b[39mif\u001b[39;00m first_step \u001b[39mis\u001b[39;00m \u001b[39mNone\u001b[39;00m:\n\u001b[0;32m     96\u001b[0m     \u001b[39mself\u001b[39m\u001b[39m.\u001b[39mh_abs \u001b[39m=\u001b[39m select_initial_step(\n\u001b[0;32m     97\u001b[0m         \u001b[39mself\u001b[39m\u001b[39m.\u001b[39mfun, \u001b[39mself\u001b[39m\u001b[39m.\u001b[39mt, \u001b[39mself\u001b[39m\u001b[39m.\u001b[39my, \u001b[39mself\u001b[39m\u001b[39m.\u001b[39mf, \u001b[39mself\u001b[39m\u001b[39m.\u001b[39mdirection,\n\u001b[0;32m     98\u001b[0m         \u001b[39mself\u001b[39m\u001b[39m.\u001b[39merror_estimator_order, \u001b[39mself\u001b[39m\u001b[39m.\u001b[39mrtol, \u001b[39mself\u001b[39m\u001b[39m.\u001b[39matol)\n",
      "File \u001b[1;32mc:\\Users\\ryota\\AppData\\Local\\Programs\\Python\\Python310\\lib\\site-packages\\scipy\\integrate\\_ivp\\base.py:138\u001b[0m, in \u001b[0;36mOdeSolver.__init__.<locals>.fun\u001b[1;34m(t, y)\u001b[0m\n\u001b[0;32m    136\u001b[0m \u001b[39mdef\u001b[39;00m \u001b[39mfun\u001b[39m(t, y):\n\u001b[0;32m    137\u001b[0m     \u001b[39mself\u001b[39m\u001b[39m.\u001b[39mnfev \u001b[39m+\u001b[39m\u001b[39m=\u001b[39m \u001b[39m1\u001b[39m\n\u001b[1;32m--> 138\u001b[0m     \u001b[39mreturn\u001b[39;00m \u001b[39mself\u001b[39;49m\u001b[39m.\u001b[39;49mfun_single(t, y)\n",
      "File \u001b[1;32mc:\\Users\\ryota\\AppData\\Local\\Programs\\Python\\Python310\\lib\\site-packages\\scipy\\integrate\\_ivp\\base.py:20\u001b[0m, in \u001b[0;36mcheck_arguments.<locals>.fun_wrapped\u001b[1;34m(t, y)\u001b[0m\n\u001b[0;32m     19\u001b[0m \u001b[39mdef\u001b[39;00m \u001b[39mfun_wrapped\u001b[39m(t, y):\n\u001b[1;32m---> 20\u001b[0m     \u001b[39mreturn\u001b[39;00m np\u001b[39m.\u001b[39masarray(fun(t, y), dtype\u001b[39m=\u001b[39mdtype)\n",
      "\u001b[1;32mc:\\Users\\ryota\\OneDrive\\ドキュメント\\research\\program\\TrajectoryOptimization2\\test.ipynb Cell 31\u001b[0m line \u001b[0;36m2\n\u001b[0;32m     <a href='vscode-notebook-cell:/c%3A/Users/ryota/OneDrive/%E3%83%89%E3%82%AD%E3%83%A5%E3%83%A1%E3%83%B3%E3%83%88/research/program/TrajectoryOptimization2/test.ipynb#X42sZmlsZQ%3D%3D?line=22'>23</a>\u001b[0m u_func \u001b[39m=\u001b[39m \u001b[39mlambda\u001b[39;00m t: np\u001b[39m.\u001b[39minterp(t, t_steps, u)\n\u001b[0;32m     <a href='vscode-notebook-cell:/c%3A/Users/ryota/OneDrive/%E3%83%89%E3%82%AD%E3%83%A5%E3%83%A1%E3%83%B3%E3%83%88/research/program/TrajectoryOptimization2/test.ipynb#X42sZmlsZQ%3D%3D?line=24'>25</a>\u001b[0m \u001b[39m# システムの動力学を解く\u001b[39;00m\n\u001b[1;32m---> <a href='vscode-notebook-cell:/c%3A/Users/ryota/OneDrive/%E3%83%89%E3%82%AD%E3%83%A5%E3%83%A1%E3%83%B3%E3%83%88/research/program/TrajectoryOptimization2/test.ipynb#X42sZmlsZQ%3D%3D?line=25'>26</a>\u001b[0m sol \u001b[39m=\u001b[39m solve_ivp(\u001b[39mlambda\u001b[39;00m t, z: dynamics(t, z, u_func(t)), [\u001b[39m0\u001b[39m, tf], z_init, t_eval\u001b[39m=\u001b[39mt_steps)\n\u001b[0;32m     <a href='vscode-notebook-cell:/c%3A/Users/ryota/OneDrive/%E3%83%89%E3%82%AD%E3%83%A5%E3%83%A1%E3%83%B3%E3%83%88/research/program/TrajectoryOptimization2/test.ipynb#X42sZmlsZQ%3D%3D?line=27'>28</a>\u001b[0m \u001b[39m# 目的関数（コスト関数）の計算\u001b[39;00m\n\u001b[0;32m     <a href='vscode-notebook-cell:/c%3A/Users/ryota/OneDrive/%E3%83%89%E3%82%AD%E3%83%A5%E3%83%A1%E3%83%B3%E3%83%88/research/program/TrajectoryOptimization2/test.ipynb#X42sZmlsZQ%3D%3D?line=28'>29</a>\u001b[0m cost \u001b[39m=\u001b[39m np\u001b[39m.\u001b[39mtrapz(u\u001b[39m*\u001b[39m\u001b[39m*\u001b[39m\u001b[39m2\u001b[39m \u001b[39m+\u001b[39m sol\u001b[39m.\u001b[39my[\u001b[39m0\u001b[39m]\u001b[39m*\u001b[39m\u001b[39m*\u001b[39m\u001b[39m2\u001b[39m \u001b[39m+\u001b[39m sol\u001b[39m.\u001b[39my[\u001b[39m1\u001b[39m]\u001b[39m*\u001b[39m\u001b[39m*\u001b[39m\u001b[39m2\u001b[39m, t_steps)\n",
      "\u001b[1;32mc:\\Users\\ryota\\OneDrive\\ドキュメント\\research\\program\\TrajectoryOptimization2\\test.ipynb Cell 31\u001b[0m line \u001b[0;36m2\n\u001b[0;32m     <a href='vscode-notebook-cell:/c%3A/Users/ryota/OneDrive/%E3%83%89%E3%82%AD%E3%83%A5%E3%83%A1%E3%83%B3%E3%83%88/research/program/TrajectoryOptimization2/test.ipynb#X42sZmlsZQ%3D%3D?line=19'>20</a>\u001b[0m t_steps \u001b[39m=\u001b[39m np\u001b[39m.\u001b[39mlinspace(\u001b[39m0\u001b[39m, tf, \u001b[39mlen\u001b[39m(u) \u001b[39m+\u001b[39m \u001b[39m1\u001b[39m)\n\u001b[0;32m     <a href='vscode-notebook-cell:/c%3A/Users/ryota/OneDrive/%E3%83%89%E3%82%AD%E3%83%A5%E3%83%A1%E3%83%B3%E3%83%88/research/program/TrajectoryOptimization2/test.ipynb#X42sZmlsZQ%3D%3D?line=21'>22</a>\u001b[0m \u001b[39m# 制御入力信号\u001b[39;00m\n\u001b[1;32m---> <a href='vscode-notebook-cell:/c%3A/Users/ryota/OneDrive/%E3%83%89%E3%82%AD%E3%83%A5%E3%83%A1%E3%83%B3%E3%83%88/research/program/TrajectoryOptimization2/test.ipynb#X42sZmlsZQ%3D%3D?line=22'>23</a>\u001b[0m u_func \u001b[39m=\u001b[39m \u001b[39mlambda\u001b[39;00m t: np\u001b[39m.\u001b[39;49minterp(t, t_steps, u)\n\u001b[0;32m     <a href='vscode-notebook-cell:/c%3A/Users/ryota/OneDrive/%E3%83%89%E3%82%AD%E3%83%A5%E3%83%A1%E3%83%B3%E3%83%88/research/program/TrajectoryOptimization2/test.ipynb#X42sZmlsZQ%3D%3D?line=24'>25</a>\u001b[0m \u001b[39m# システムの動力学を解く\u001b[39;00m\n\u001b[0;32m     <a href='vscode-notebook-cell:/c%3A/Users/ryota/OneDrive/%E3%83%89%E3%82%AD%E3%83%A5%E3%83%A1%E3%83%B3%E3%83%88/research/program/TrajectoryOptimization2/test.ipynb#X42sZmlsZQ%3D%3D?line=25'>26</a>\u001b[0m sol \u001b[39m=\u001b[39m solve_ivp(\u001b[39mlambda\u001b[39;00m t, z: dynamics(t, z, u_func(t)), [\u001b[39m0\u001b[39m, tf], z_init, t_eval\u001b[39m=\u001b[39mt_steps)\n",
      "File \u001b[1;32m<__array_function__ internals>:180\u001b[0m, in \u001b[0;36minterp\u001b[1;34m(*args, **kwargs)\u001b[0m\n",
      "File \u001b[1;32mc:\\Users\\ryota\\AppData\\Local\\Programs\\Python\\Python310\\lib\\site-packages\\numpy\\lib\\function_base.py:1594\u001b[0m, in \u001b[0;36minterp\u001b[1;34m(x, xp, fp, left, right, period)\u001b[0m\n\u001b[0;32m   1591\u001b[0m     xp \u001b[39m=\u001b[39m np\u001b[39m.\u001b[39mconcatenate((xp[\u001b[39m-\u001b[39m\u001b[39m1\u001b[39m:]\u001b[39m-\u001b[39mperiod, xp, xp[\u001b[39m0\u001b[39m:\u001b[39m1\u001b[39m]\u001b[39m+\u001b[39mperiod))\n\u001b[0;32m   1592\u001b[0m     fp \u001b[39m=\u001b[39m np\u001b[39m.\u001b[39mconcatenate((fp[\u001b[39m-\u001b[39m\u001b[39m1\u001b[39m:], fp, fp[\u001b[39m0\u001b[39m:\u001b[39m1\u001b[39m]))\n\u001b[1;32m-> 1594\u001b[0m \u001b[39mreturn\u001b[39;00m interp_func(x, xp, fp, left, right)\n",
      "\u001b[1;31mValueError\u001b[0m: fp and xp are not of the same length."
     ]
    }
   ],
   "source": [
    "import numpy as np\n",
    "from scipy.optimize import minimize\n",
    "from scipy.integrate import solve_ivp\n",
    "\n",
    "# システムの動力学方程式\n",
    "def dynamics(t, z, u):\n",
    "    # ここにシステムの動力学方程式を実装する\n",
    "    # z: 状態変数, u: 制御入力\n",
    "    # 例: x_dot = f(x, u)\n",
    "    x_dot = z[1]\n",
    "    y_dot = -z[0] - z[1] + u\n",
    "    return np.array([x_dot, y_dot])\n",
    "\n",
    "# 目的関数\n",
    "def objective_function(u, z0, tf):\n",
    "    # 初期条件\n",
    "    z_init = np.array([0.0, 0.0])\n",
    "    \n",
    "    # 制御入力時間履歴の生成\n",
    "    t_steps = np.linspace(0, tf, len(u) + 1)\n",
    "    \n",
    "    # 制御入力信号\n",
    "    u_func = lambda t: np.interp(t, t_steps, u)\n",
    "    \n",
    "    # システムの動力学を解く\n",
    "    sol = solve_ivp(lambda t, z: dynamics(t, z, u_func(t)), [0, tf], z_init, t_eval=t_steps)\n",
    "    \n",
    "    # 目的関数（コスト関数）の計算\n",
    "    cost = np.trapz(u**2 + sol.y[0]**2 + sol.y[1]**2, t_steps)\n",
    "    \n",
    "    return cost\n",
    "\n",
    "# 制御入力の初期値\n",
    "u_init = np.zeros(100)\n",
    "\n",
    "# 制御入力の制約条件（例: -1 <= u <= 1）\n",
    "constraints = {'type': 'eq', 'fun': lambda u: np.sum(u**2) - 1}\n",
    "\n",
    "# 最適化の設定\n",
    "result = minimize(\n",
    "    fun=lambda u: objective_function(u, [0.0, 0.0], 10.0),\n",
    "    x0=u_init,\n",
    "    constraints=constraints,\n",
    "    method='SLSQP'  # 別のアルゴリズムも試すことができます\n",
    ")\n",
    "\n",
    "# 結果の表示\n",
    "print(\"最適な制御入力:\", result.x)"
   ]
  },
  {
   "cell_type": "code",
   "execution_count": 2,
   "metadata": {},
   "outputs": [
    {
     "data": {
      "text/plain": [
       "1.5707963267938967"
      ]
     },
     "execution_count": 2,
     "metadata": {},
     "output_type": "execute_result"
    }
   ],
   "source": [
    "import numpy as np\n",
    "np.arctan2(1, 1.0-0.999999999999)"
   ]
  },
  {
   "cell_type": "code",
   "execution_count": null,
   "metadata": {},
   "outputs": [],
   "source": []
  }
 ],
 "metadata": {
  "kernelspec": {
   "display_name": "Python 3",
   "language": "python",
   "name": "python3"
  },
  "language_info": {
   "codemirror_mode": {
    "name": "ipython",
    "version": 3
   },
   "file_extension": ".py",
   "mimetype": "text/x-python",
   "name": "python",
   "nbconvert_exporter": "python",
   "pygments_lexer": "ipython3",
   "version": "3.10.7"
  },
  "orig_nbformat": 4
 },
 "nbformat": 4,
 "nbformat_minor": 2
}
